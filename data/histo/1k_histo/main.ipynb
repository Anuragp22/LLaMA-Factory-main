{
 "cells": [
  {
   "cell_type": "code",
   "execution_count": null,
   "metadata": {},
   "outputs": [
    {
     "ename": "FileNotFoundError",
     "evalue": "[Errno 2] No such file or directory: 'C:/Users/aksha/Desktop/histo/images_part_1_resized/quilt_1m\\\\994701482116173824_0.jpg'",
     "output_type": "error",
     "traceback": [
      "\u001b[1;31m---------------------------------------------------------------------------\u001b[0m",
      "\u001b[1;31mFileNotFoundError\u001b[0m                         Traceback (most recent call last)",
      "Cell \u001b[1;32mIn[1], line 35\u001b[0m\n\u001b[0;32m     32\u001b[0m target_image_path \u001b[38;5;241m=\u001b[39m os\u001b[38;5;241m.\u001b[39mpath\u001b[38;5;241m.\u001b[39mjoin(target_image_folder, Path(image_path)\u001b[38;5;241m.\u001b[39mname)\n\u001b[0;32m     34\u001b[0m \u001b[38;5;66;03m# Copy image to the new folder\u001b[39;00m\n\u001b[1;32m---> 35\u001b[0m \u001b[43mshutil\u001b[49m\u001b[38;5;241;43m.\u001b[39;49m\u001b[43mcopy\u001b[49m\u001b[43m(\u001b[49m\u001b[43mfull_image_path\u001b[49m\u001b[43m,\u001b[49m\u001b[43m \u001b[49m\u001b[43mtarget_image_path\u001b[49m\u001b[43m)\u001b[49m\n\u001b[0;32m     37\u001b[0m \u001b[38;5;66;03m# Format the JSON entry\u001b[39;00m\n\u001b[0;32m     38\u001b[0m json_entry \u001b[38;5;241m=\u001b[39m {\n\u001b[0;32m     39\u001b[0m     \u001b[38;5;124m\"\u001b[39m\u001b[38;5;124mmessages\u001b[39m\u001b[38;5;124m\"\u001b[39m: [\n\u001b[0;32m     40\u001b[0m         {\n\u001b[1;32m   (...)\u001b[0m\n\u001b[0;32m     51\u001b[0m     ]\n\u001b[0;32m     52\u001b[0m }\n",
      "File \u001b[1;32mc:\\Users\\aksha\\AppData\\Local\\Programs\\Python\\Python312\\Lib\\shutil.py:423\u001b[0m, in \u001b[0;36mcopy\u001b[1;34m(src, dst, follow_symlinks)\u001b[0m\n\u001b[0;32m    421\u001b[0m \u001b[38;5;28;01mif\u001b[39;00m os\u001b[38;5;241m.\u001b[39mpath\u001b[38;5;241m.\u001b[39misdir(dst):\n\u001b[0;32m    422\u001b[0m     dst \u001b[38;5;241m=\u001b[39m os\u001b[38;5;241m.\u001b[39mpath\u001b[38;5;241m.\u001b[39mjoin(dst, os\u001b[38;5;241m.\u001b[39mpath\u001b[38;5;241m.\u001b[39mbasename(src))\n\u001b[1;32m--> 423\u001b[0m \u001b[43mcopyfile\u001b[49m\u001b[43m(\u001b[49m\u001b[43msrc\u001b[49m\u001b[43m,\u001b[49m\u001b[43m \u001b[49m\u001b[43mdst\u001b[49m\u001b[43m,\u001b[49m\u001b[43m \u001b[49m\u001b[43mfollow_symlinks\u001b[49m\u001b[38;5;241;43m=\u001b[39;49m\u001b[43mfollow_symlinks\u001b[49m\u001b[43m)\u001b[49m\n\u001b[0;32m    424\u001b[0m copymode(src, dst, follow_symlinks\u001b[38;5;241m=\u001b[39mfollow_symlinks)\n\u001b[0;32m    425\u001b[0m \u001b[38;5;28;01mreturn\u001b[39;00m dst\n",
      "File \u001b[1;32mc:\\Users\\aksha\\AppData\\Local\\Programs\\Python\\Python312\\Lib\\shutil.py:260\u001b[0m, in \u001b[0;36mcopyfile\u001b[1;34m(src, dst, follow_symlinks)\u001b[0m\n\u001b[0;32m    258\u001b[0m     os\u001b[38;5;241m.\u001b[39msymlink(os\u001b[38;5;241m.\u001b[39mreadlink(src), dst)\n\u001b[0;32m    259\u001b[0m \u001b[38;5;28;01melse\u001b[39;00m:\n\u001b[1;32m--> 260\u001b[0m     \u001b[38;5;28;01mwith\u001b[39;00m \u001b[38;5;28;43mopen\u001b[39;49m\u001b[43m(\u001b[49m\u001b[43msrc\u001b[49m\u001b[43m,\u001b[49m\u001b[43m \u001b[49m\u001b[38;5;124;43m'\u001b[39;49m\u001b[38;5;124;43mrb\u001b[39;49m\u001b[38;5;124;43m'\u001b[39;49m\u001b[43m)\u001b[49m \u001b[38;5;28;01mas\u001b[39;00m fsrc:\n\u001b[0;32m    261\u001b[0m         \u001b[38;5;28;01mtry\u001b[39;00m:\n\u001b[0;32m    262\u001b[0m             \u001b[38;5;28;01mwith\u001b[39;00m \u001b[38;5;28mopen\u001b[39m(dst, \u001b[38;5;124m'\u001b[39m\u001b[38;5;124mwb\u001b[39m\u001b[38;5;124m'\u001b[39m) \u001b[38;5;28;01mas\u001b[39;00m fdst:\n\u001b[0;32m    263\u001b[0m                 \u001b[38;5;66;03m# macOS\u001b[39;00m\n",
      "\u001b[1;31mFileNotFoundError\u001b[0m: [Errno 2] No such file or directory: 'C:/Users/aksha/Desktop/histo/images_part_1_resized/quilt_1m\\\\994701482116173824_0.jpg'"
     ]
    }
   ],
   "source": [
    "import os\n",
    "import shutil\n",
    "import pandas as pd\n",
    "import json\n",
    "from pathlib import Path\n",
    "\n",
    "# Configurations\n",
    "csv_file_path = 'C:/Users/aksha/Desktop/histo/quilt_1M_lookup.csv'\n",
    "source_image_folder = 'C:/Users/aksha/Desktop/histo/images_part_1_resized/quilt_1m'\n",
    "target_image_folder = 'C:/Users/aksha/Desktop/histo/1k_histo'\n",
    "output_json_path = 'C:/Users/aksha/Desktop/histo/output.json'\n",
    "\n",
    "# Create target folder if it doesn't exist\n",
    "os.makedirs(target_image_folder, exist_ok=True)\n",
    "\n",
    "# Load the CSV into a DataFrame\n",
    "data = pd.read_csv(csv_file_path)\n",
    "\n",
    "# Create a dictionary for quick look-up if not too large:\n",
    "# key: image filename, value: caption\n",
    "caption_dict = dict(zip(data['image_path'], data['caption']))\n",
    "\n",
    "# List image files in source folder and take the first 1000\n",
    "image_files = sorted(os.listdir(source_image_folder))[:1000]\n",
    "\n",
    "json_list = []\n",
    "\n",
    "for img_file in image_files:\n",
    "    # Ensure we only deal with image files and that it exists in caption_dict\n",
    "    if img_file in caption_dict:\n",
    "        caption = caption_dict[img_file]\n",
    "        \n",
    "        # Source and destination paths\n",
    "        full_image_path = os.path.join(source_image_folder, img_file)\n",
    "        target_image_path = os.path.join(target_image_folder, img_file)\n",
    "        \n",
    "        # Copy the image\n",
    "        shutil.copy(full_image_path, target_image_path)\n",
    "        \n",
    "        # Create the JSON entry\n",
    "        json_entry = {\n",
    "            \"messages\": [\n",
    "                {\n",
    "                    \"content\": \"<image>?\",\n",
    "                    \"role\": \"user\"\n",
    "                },\n",
    "                {\n",
    "                    \"content\": caption,\n",
    "                    \"role\": \"assistant\"\n",
    "                }\n",
    "            ],\n",
    "            \"images\": [\n",
    "                target_image_path\n",
    "            ]\n",
    "        }\n",
    "        \n",
    "        json_list.append(json_entry)\n",
    "\n",
    "# Save to JSON\n",
    "with open(output_json_path, 'w', encoding='utf-8') as f:\n",
    "    json.dump(json_list, f, indent=4)\n",
    "\n",
    "print(f\"Processed {len(json_list)} images and captions. JSON saved to {output_json_path}\")\n"
   ]
  },
  {
   "cell_type": "code",
   "execution_count": null,
   "metadata": {},
   "outputs": [],
   "source": []
  },
  {
   "cell_type": "code",
   "execution_count": null,
   "metadata": {},
   "outputs": [],
   "source": []
  },
  {
   "cell_type": "code",
   "execution_count": null,
   "metadata": {},
   "outputs": [],
   "source": []
  },
  {
   "cell_type": "code",
   "execution_count": null,
   "metadata": {},
   "outputs": [],
   "source": []
  },
  {
   "cell_type": "code",
   "execution_count": null,
   "metadata": {},
   "outputs": [],
   "source": []
  }
 ],
 "metadata": {
  "kernelspec": {
   "display_name": "Python 3",
   "language": "python",
   "name": "python3"
  },
  "language_info": {
   "codemirror_mode": {
    "name": "ipython",
    "version": 3
   },
   "file_extension": ".py",
   "mimetype": "text/x-python",
   "name": "python",
   "nbconvert_exporter": "python",
   "pygments_lexer": "ipython3",
   "version": "3.12.1"
  }
 },
 "nbformat": 4,
 "nbformat_minor": 2
}
